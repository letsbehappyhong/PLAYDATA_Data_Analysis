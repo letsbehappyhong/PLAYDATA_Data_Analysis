{
 "cells": [
  {
   "cell_type": "markdown",
   "id": "a8a26000",
   "metadata": {},
   "source": [
    "# Pandas\n",
    "- 파이썬 패키지\n",
    "- 데이터 분석과 관련된 다양한 기능 제공\n",
    "  - 통계 처리\n",
    "  - 표 형태의 데이터 사용에 특화됨\n",
    "    - Series와 DataFrame class를 사용\n",
    "\n",
    "- 호출\n",
    "  - import pandas as pd\n",
    "    - pd는 관례적인 별칭이다."
   ]
  },
  {
   "cell_type": "markdown",
   "id": "28231b3c",
   "metadata": {},
   "source": [
    "    \n",
    "## 1. Series\n",
    "- 1차원 자료구조를 말한다.\n",
    "  - 한 행(row)이나 한 열(column)\n",
    "- 각 원소는 index와 index name을 가진다."
   ]
  },
  {
   "cell_type": "markdown",
   "id": "7a806644",
   "metadata": {},
   "source": [
    "### Series 생성하기\n",
    "- 구문\n",
    "  - Series(1차원 배열형태 자료구조)\n",
    "    - 리스트, 튜플, 넘파이 배열\n",
    "\n",
    "**이후로 편의를 위해 Series를 S라 칭함**"
   ]
  },
  {
   "cell_type": "code",
   "execution_count": 1,
   "id": "c0f9eb41",
   "metadata": {
    "ExecuteTime": {
     "end_time": "2023-01-13T05:00:05.917508Z",
     "start_time": "2023-01-13T05:00:05.458616Z"
    }
   },
   "outputs": [
    {
     "name": "stdout",
     "output_type": "stream",
     "text": [
      "0    1\n",
      "1    2\n",
      "2    3\n",
      "3    4\n",
      "4    5\n",
      "5    6\n",
      "dtype: int64\n"
     ]
    }
   ],
   "source": [
    "# 리스트에 값을 입력해 S s1을 만들어보자\n",
    "import pandas as pd\n",
    "s1 = pd.Series([1,2,3,4,5,6]) \n",
    "print(s1)"
   ]
  },
  {
   "cell_type": "markdown",
   "id": "aaa2d305",
   "metadata": {},
   "source": [
    "**s1 값에 대한 설명**"
   ]
  },
  {
   "cell_type": "markdown",
   "id": "8b99d6ec",
   "metadata": {},
   "source": [
    "```\n",
    "index name    값\n",
    "     0        1\n",
    "     1        2\n",
    "     2        3\n",
    "     3        4\n",
    "     4        5\n",
    "     5        6\n",
    "     \n",
    "dtype: int64 => 값들의 Type\n",
    "```\n",
    "\n",
    "- S는 동일한 type의 값을 갖는다.\n",
    "- index name은 dict의 key값 같은 것이다."
   ]
  },
  {
   "cell_type": "markdown",
   "id": "89dfe271",
   "metadata": {},
   "source": [
    "**s1 속성 조회**"
   ]
  },
  {
   "cell_type": "code",
   "execution_count": 4,
   "id": "5b21c829",
   "metadata": {
    "ExecuteTime": {
     "end_time": "2023-01-11T10:09:26.444297Z",
     "start_time": "2023-01-11T10:09:26.436316Z"
    }
   },
   "outputs": [
    {
     "name": "stdout",
     "output_type": "stream",
     "text": [
      "데이터 type: int64\n",
      "6\n",
      "(6,)\n"
     ]
    }
   ],
   "source": [
    "# .dtype : 데이터 타입을 알려줌\n",
    "print('데이터 type:',s1.dtype)\n",
    "\n",
    "# .size : 전체 원소의 개수를 알려줌\n",
    "print(s1.size)\n",
    "\n",
    "# .shape : 차원별 개수를 알려줌\n",
    "print(s1.shape)\n"
   ]
  },
  {
   "cell_type": "markdown",
   "id": "03290d7a",
   "metadata": {},
   "source": [
    "**추가**\n",
    "1. S로 만들 리스트의 원소 중 1개 이상 실수가 있다면 dtype은 float이고 리스트의 모든 원소를 실수로 바꿔 S를 만든다.\n",
    "\n",
    "2. s1은 1차원 데이터라 index의 개수만 알려준다."
   ]
  },
  {
   "cell_type": "markdown",
   "id": "8c35a302",
   "metadata": {
    "ExecuteTime": {
     "end_time": "2023-01-11T10:14:52.315047Z",
     "start_time": "2023-01-11T10:14:52.299806Z"
    }
   },
   "source": [
    "### S안의 원소에 접근하는 법.\n",
    "\n",
    "S의 원소는 두 종류의 index를 가진다.\n",
    "1. index(순번)\n",
    "2. index name\n",
    "\n",
    "**Indexing**\n",
    "- 한개의 원소를 식별할 때 사용\n",
    "\n",
    "- index 순번으로 조회\n",
    "  - S[순번]\n",
    "  - S.iloc[순번] \n",
    "------------------------------  \n",
    "- index name으로 조회\n",
    "  - S[index name]\n",
    "  - S.loc[index name]\n",
    "  - S.inde name \n",
    "    - 점(.)표기법\n",
    "-------------------------------\n",
    "- indexer으로 조회\n",
    "- S[index]를 하면 기본적으로 index명으로 조회한다.\n",
    "-------------------------------    \n",
    "- 팬시(fancy) indexing으로 조회\n",
    "  : 한번에 여러개의 원소를 조회할 때 사용\n",
    "  - S[index리스트]"
   ]
  },
  {
   "cell_type": "code",
   "execution_count": 5,
   "id": "c1a90448",
   "metadata": {
    "ExecuteTime": {
     "end_time": "2023-01-11T10:29:25.386789Z",
     "start_time": "2023-01-11T10:29:25.371608Z"
    }
   },
   "outputs": [
    {
     "data": {
      "text/plain": [
       "Python    100\n",
       "Java       80\n",
       "C          90\n",
       "JS         60\n",
       "dtype: int64"
      ]
     },
     "execution_count": 5,
     "metadata": {},
     "output_type": "execute_result"
    }
   ],
   "source": [
    "s2 = pd.Series([100, 80, 90, 60], index=['Python', 'Java', 'C', 'JS'])\n",
    "s2"
   ]
  },
  {
   "cell_type": "code",
   "execution_count": 6,
   "id": "0d9f0048",
   "metadata": {
    "ExecuteTime": {
     "end_time": "2023-01-11T10:31:26.319999Z",
     "start_time": "2023-01-11T10:31:26.251446Z"
    }
   },
   "outputs": [
    {
     "data": {
      "text/plain": [
       "(100, 100, 100)"
      ]
     },
     "execution_count": 6,
     "metadata": {},
     "output_type": "execute_result"
    }
   ],
   "source": [
    "# s2의 순번조회 , 이름조회\n",
    "s2[0], s2[-4], s2['Python'] \n"
   ]
  },
  {
   "cell_type": "markdown",
   "id": "a5794dce",
   "metadata": {
    "ExecuteTime": {
     "end_time": "2023-01-11T10:36:32.279641Z",
     "start_time": "2023-01-11T10:36:32.264059Z"
    }
   },
   "source": [
    "**순번 조회에는 iloc => iloc indexer**\n",
    "\n",
    "**이름 조회에는 loc => loc indexer**\n",
    "- iloc,loc 사용시 맞는 값을 입력해줘야 한다."
   ]
  },
  {
   "cell_type": "code",
   "execution_count": 7,
   "id": "ed850813",
   "metadata": {
    "ExecuteTime": {
     "end_time": "2023-01-11T10:36:32.279641Z",
     "start_time": "2023-01-11T10:36:32.264059Z"
    }
   },
   "outputs": [
    {
     "data": {
      "text/plain": [
       "(100, 100, 100)"
      ]
     },
     "execution_count": 7,
     "metadata": {},
     "output_type": "execute_result"
    }
   ],
   "source": [
    "s2.iloc[0], s2.iloc[-4], s2.loc['Python'] "
   ]
  },
  {
   "cell_type": "code",
   "execution_count": 8,
   "id": "a81e2854",
   "metadata": {
    "ExecuteTime": {
     "end_time": "2023-01-11T10:42:08.543562Z",
     "start_time": "2023-01-11T10:42:08.527720Z"
    }
   },
   "outputs": [
    {
     "name": "stdout",
     "output_type": "stream",
     "text": [
      "1 2 4\n",
      "\n",
      "0    1\n",
      "1    2\n",
      "3    4\n",
      "dtype: int64\n"
     ]
    }
   ],
   "source": [
    "# 한번에 여러개 원소 조회\n",
    "print(s1[0], s1[1], s1[3]) # list/tuple 방식\n",
    "print()\n",
    "print(s1[[0,1,3]]) # 조회결과를 Series로 묶어서 반환"
   ]
  },
  {
   "cell_type": "markdown",
   "id": "2a532aec",
   "metadata": {},
   "source": [
    "#### S의 원소 변경하기"
   ]
  },
  {
   "cell_type": "code",
   "execution_count": 9,
   "id": "5d1aa7e5",
   "metadata": {
    "ExecuteTime": {
     "end_time": "2023-01-11T10:43:28.757374Z",
     "start_time": "2023-01-11T10:43:28.741584Z"
    }
   },
   "outputs": [
    {
     "data": {
      "text/plain": [
       "Python    50\n",
       "Java      80\n",
       "C         90\n",
       "JS        60\n",
       "dtype: int64"
      ]
     },
     "execution_count": 9,
     "metadata": {},
     "output_type": "execute_result"
    }
   ],
   "source": [
    "# Series는 리스트같이 원소를 변경할 수 있다.\n",
    "# 100 -> 50으로 값 변경\n",
    "s2[0] = 50\n",
    "s2"
   ]
  },
  {
   "cell_type": "code",
   "execution_count": 10,
   "id": "1f93350b",
   "metadata": {
    "ExecuteTime": {
     "end_time": "2023-01-11T10:43:44.781433Z",
     "start_time": "2023-01-11T10:43:44.768470Z"
    }
   },
   "outputs": [
    {
     "data": {
      "text/plain": [
       "Python     50\n",
       "Java      100\n",
       "C          90\n",
       "JS         60\n",
       "dtype: int64"
      ]
     },
     "execution_count": 10,
     "metadata": {},
     "output_type": "execute_result"
    }
   ],
   "source": [
    "s2['Java'] = 100\n",
    "s2"
   ]
  },
  {
   "cell_type": "markdown",
   "id": "55e657fa",
   "metadata": {},
   "source": [
    "**Slicing**\n",
    "- 범위로 원소들을 조회할 때 사용한다.\n",
    "- 자료구조의 슬라이싱과 유사함\n",
    "  - index name으로 슬라이싱을 하면 stop index를 포함\n",
    "  - index 순번으로 슬라이싱하면 stop index 전까지\n",
    "\n",
    "- 슬라이싱의 결과는 원본 값에 영향을 준다.\n",
    "  - 원본에 영향을 주지 않으려면 slicing결과.copy()를 해준다.\n",
    "  "
   ]
  },
  {
   "cell_type": "code",
   "execution_count": 11,
   "id": "2ed4c292",
   "metadata": {
    "ExecuteTime": {
     "end_time": "2023-01-12T00:56:55.076872Z",
     "start_time": "2023-01-12T00:56:55.051902Z"
    }
   },
   "outputs": [
    {
     "name": "stdout",
     "output_type": "stream",
     "text": [
      "int64 (100,)\n"
     ]
    },
    {
     "data": {
      "text/plain": [
       "0      0\n",
       "1      1\n",
       "2      2\n",
       "3      3\n",
       "4      4\n",
       "      ..\n",
       "95    95\n",
       "96    96\n",
       "97    97\n",
       "98    98\n",
       "99    99\n",
       "Length: 100, dtype: int64"
      ]
     },
     "execution_count": 11,
     "metadata": {},
     "output_type": "execute_result"
    }
   ],
   "source": [
    "s3 = pd.Series(range(100)) # 0~99를 원소로 가지는 시리즈\n",
    "print(s3.dtype, s3.shape)\n",
    "s3"
   ]
  },
  {
   "cell_type": "code",
   "execution_count": 12,
   "id": "279c3530",
   "metadata": {
    "ExecuteTime": {
     "end_time": "2023-01-12T00:57:00.508150Z",
     "start_time": "2023-01-12T00:57:00.485245Z"
    }
   },
   "outputs": [
    {
     "data": {
      "text/plain": [
       "10    10\n",
       "15    15\n",
       "dtype: int64"
      ]
     },
     "execution_count": 12,
     "metadata": {},
     "output_type": "execute_result"
    }
   ],
   "source": [
    "# index로 slicing. stop이 포함안됨\n",
    "s3[10:20:5] "
   ]
  },
  {
   "cell_type": "code",
   "execution_count": 13,
   "id": "438faec1",
   "metadata": {
    "ExecuteTime": {
     "end_time": "2023-01-12T00:57:03.864602Z",
     "start_time": "2023-01-12T00:57:03.855588Z"
    }
   },
   "outputs": [
    {
     "data": {
      "text/plain": [
       "10    10\n",
       "15    15\n",
       "20    20\n",
       "dtype: int64"
      ]
     },
     "execution_count": 13,
     "metadata": {},
     "output_type": "execute_result"
    }
   ],
   "source": [
    " # index name으로 slicing. stop index도 포함\n",
    "s3.loc[10:20:5]"
   ]
  },
  {
   "cell_type": "code",
   "execution_count": 14,
   "id": "6a298e66",
   "metadata": {
    "ExecuteTime": {
     "end_time": "2023-01-12T00:57:09.043302Z",
     "start_time": "2023-01-12T00:57:09.027342Z"
    }
   },
   "outputs": [
    {
     "data": {
      "text/plain": [
       "a    0\n",
       "b    1\n",
       "c    2\n",
       "d    3\n",
       "e    4\n",
       "f    5\n",
       "g    6\n",
       "h    7\n",
       "i    8\n",
       "j    9\n",
       "dtype: int64"
      ]
     },
     "execution_count": 14,
     "metadata": {},
     "output_type": "execute_result"
    }
   ],
   "source": [
    "s4 = pd.Series(range(10), index=list(\"abcdefghij\"))\n",
    "s4"
   ]
  },
  {
   "cell_type": "code",
   "execution_count": 15,
   "id": "41884ed6",
   "metadata": {
    "ExecuteTime": {
     "end_time": "2023-01-12T00:57:18.356732Z",
     "start_time": "2023-01-12T00:57:18.337748Z"
    }
   },
   "outputs": [
    {
     "data": {
      "text/plain": [
       "a      0\n",
       "b      1\n",
       "c    100\n",
       "d      3\n",
       "e      4\n",
       "f      5\n",
       "g      6\n",
       "h      7\n",
       "i      8\n",
       "j      9\n",
       "dtype: int64"
      ]
     },
     "execution_count": 15,
     "metadata": {},
     "output_type": "execute_result"
    }
   ],
   "source": [
    "# slicing한 결과의 원소를 변경\n",
    "result = s4.iloc[2:6] # iloc index -> 순번으로 조회\n",
    "result[0] = 100\n",
    "s4"
   ]
  },
  {
   "cell_type": "markdown",
   "id": "f707f07f",
   "metadata": {},
   "source": [
    "1. s4의 원소를 슬라이싱 (2-5,c-f) result라는 변수에 담고\n",
    "2. result[0] = c의 값을 100으로 바꿔준다.\n",
    "3. 원본은 s6을 출력해보면 원본의 값도 변경됨을 알 수 있다."
   ]
  },
  {
   "cell_type": "code",
   "execution_count": 81,
   "id": "25b71fe4",
   "metadata": {
    "ExecuteTime": {
     "end_time": "2023-01-12T00:57:34.065660Z",
     "start_time": "2023-01-12T00:57:34.054692Z"
    }
   },
   "outputs": [
    {
     "name": "stdout",
     "output_type": "stream",
     "text": [
      "c    2\n",
      "d    3\n",
      "e    4\n",
      "f    5\n",
      "dtype: int64\n",
      "a      0\n",
      "b      1\n",
      "c    100\n",
      "d      3\n",
      "e      4\n",
      "f      5\n",
      "g      6\n",
      "h      7\n",
      "i      8\n",
      "j      9\n",
      "dtype: int64\n"
     ]
    }
   ],
   "source": [
    "result2 = s4.iloc[2:6].copy()\n",
    "result2[0] = 2\n",
    "print(result2)\n",
    "print(s4)\n",
    "\n"
   ]
  },
  {
   "cell_type": "markdown",
   "id": "4e4a7f1d",
   "metadata": {},
   "source": [
    "1. 슬라이싱 후.copy를 하여 result2에 넣음\n",
    "2. result2[0] = c의 값을 2로 바꿈\n",
    "3. 원본에는 변함이 없고 resutl2라는 새로운 객체를 만들어냄."
   ]
  },
  {
   "cell_type": "markdown",
   "id": "64eb821c",
   "metadata": {},
   "source": [
    "## 백터화 (연산)\n",
    "\n",
    "- S와 DataFrame은 연산을 하면 원소 단위로 연산을 한다.\n",
    "- S끼리 또는 DataFrame끼리 연산을 하면 같은 위치의 원소끼리 연산을한다.\n",
    "  - Index name이 같은 원소끼라 연산"
   ]
  },
  {
   "cell_type": "code",
   "execution_count": 17,
   "id": "17be72fd",
   "metadata": {
    "ExecuteTime": {
     "end_time": "2023-01-12T01:00:02.455770Z",
     "start_time": "2023-01-12T01:00:02.435824Z"
    }
   },
   "outputs": [
    {
     "name": "stdout",
     "output_type": "stream",
     "text": [
      "0    15\n",
      "1    -5\n",
      "2    10\n",
      "3     7\n",
      "dtype: int64\n",
      "0    20\n",
      "1   -20\n",
      "2    10\n",
      "3     4\n",
      "dtype: int64\n",
      "0     True\n",
      "1    False\n",
      "2     True\n",
      "3     True\n",
      "dtype: bool\n"
     ]
    }
   ],
   "source": [
    "s5 = pd.Series([10,-10,5,2])\n",
    "print(s5 + 5) # s5 각 원소에 5를 더함\n",
    "print(s5 * 2) # 각 원소에 2를 곱함\n",
    "print(s5 > 0) # 각 원소가 조건에 따라 boolean값 호출"
   ]
  },
  {
   "cell_type": "code",
   "execution_count": 18,
   "id": "c832a036",
   "metadata": {
    "ExecuteTime": {
     "end_time": "2023-01-12T04:51:10.118883Z",
     "start_time": "2023-01-12T04:51:10.099798Z"
    }
   },
   "outputs": [
    {
     "data": {
      "text/plain": [
       "0    0\n",
       "1   -8\n",
       "2    8\n",
       "3    9\n",
       "dtype: int64"
      ]
     },
     "execution_count": 18,
     "metadata": {},
     "output_type": "execute_result"
    }
   ],
   "source": [
    "s6 = pd.Series([-10,2,3,7])\n",
    "s7 = s5 + s6  # 같은 index이름끼리 계산을 한다.\n",
    "s7"
   ]
  },
  {
   "cell_type": "code",
   "execution_count": 19,
   "id": "0215bde3",
   "metadata": {
    "ExecuteTime": {
     "end_time": "2023-01-12T01:01:56.771612Z",
     "start_time": "2023-01-12T01:01:56.759638Z"
    }
   },
   "outputs": [],
   "source": [
    "grade1 = pd.Series([100,90,70,80])\n",
    "# grade2,3은 index name을 부여함\n",
    "grade2 = pd.Series([80,100,90,100], index=['영어','수학','국어','과학'])\n",
    "grade3 = pd.Series([70,80,100,100], index=['영어','수학','국어','과학'])\n"
   ]
  },
  {
   "cell_type": "code",
   "execution_count": 20,
   "id": "a6380f58",
   "metadata": {
    "ExecuteTime": {
     "end_time": "2023-01-12T01:02:07.098219Z",
     "start_time": "2023-01-12T01:02:07.085255Z"
    }
   },
   "outputs": [
    {
     "data": {
      "text/plain": [
       "0    NaN\n",
       "1    NaN\n",
       "2    NaN\n",
       "3    NaN\n",
       "과학   NaN\n",
       "국어   NaN\n",
       "수학   NaN\n",
       "영어   NaN\n",
       "dtype: float64"
      ]
     },
     "execution_count": 20,
     "metadata": {},
     "output_type": "execute_result"
    }
   ],
   "source": [
    "# index name이 다르면 계산이 안된다.\n",
    "grade1 + grade2"
   ]
  },
  {
   "cell_type": "code",
   "execution_count": 21,
   "id": "768751d0",
   "metadata": {
    "ExecuteTime": {
     "end_time": "2023-01-12T01:03:14.049595Z",
     "start_time": "2023-01-12T01:03:14.035631Z"
    }
   },
   "outputs": [
    {
     "data": {
      "text/plain": [
       "영어    150\n",
       "수학    180\n",
       "국어    190\n",
       "과학    200\n",
       "dtype: int64"
      ]
     },
     "execution_count": 21,
     "metadata": {},
     "output_type": "execute_result"
    }
   ],
   "source": [
    "# 계산은 index name이 같은 것끼리만!!\n",
    "grade2 + grade3"
   ]
  },
  {
   "cell_type": "markdown",
   "id": "428519f4",
   "metadata": {},
   "source": [
    "## Boolean 인덱싱\n",
    "\n",
    "- S의 indexing 연산자에 boolean 리스트를 넣으면 True인 index의 값들만 조회함.\n",
    "\n",
    "- 파이썬과는 다르게 and, or, not은 사용못함\n",
    "  - &, |, ~를 쓴다."
   ]
  },
  {
   "cell_type": "code",
   "execution_count": 22,
   "id": "51ec82e7",
   "metadata": {
    "ExecuteTime": {
     "end_time": "2023-01-12T04:51:52.237608Z",
     "start_time": "2023-01-12T04:51:52.217542Z"
    }
   },
   "outputs": [
    {
     "data": {
      "text/plain": [
       "0    0\n",
       "2    8\n",
       "dtype: int64"
      ]
     },
     "execution_count": 22,
     "metadata": {},
     "output_type": "execute_result"
    }
   ],
   "source": [
    "# s7의 원소중 True인 값만 조회된다.\n",
    "s7[[True, False, True, False]]"
   ]
  },
  {
   "cell_type": "code",
   "execution_count": 23,
   "id": "e5475298",
   "metadata": {
    "ExecuteTime": {
     "end_time": "2023-01-13T07:07:32.509363Z",
     "start_time": "2023-01-13T07:07:32.497351Z"
    },
    "scrolled": true
   },
   "outputs": [
    {
     "data": {
      "text/plain": [
       "0     79\n",
       "1     60\n",
       "2     90\n",
       "3     84\n",
       "4     56\n",
       "5     76\n",
       "6     91\n",
       "7     74\n",
       "8     95\n",
       "9     79\n",
       "10    52\n",
       "11    92\n",
       "12    96\n",
       "13    72\n",
       "14    96\n",
       "15    82\n",
       "16    83\n",
       "17    38\n",
       "18    76\n",
       "19    20\n",
       "20    55\n",
       "21    36\n",
       "22    19\n",
       "23    97\n",
       "24    30\n",
       "25    26\n",
       "26    11\n",
       "27    81\n",
       "28    53\n",
       "29    27\n",
       "30    37\n",
       "31    97\n",
       "32    10\n",
       "33    31\n",
       "34    66\n",
       "35    83\n",
       "36    49\n",
       "37    78\n",
       "38    61\n",
       "39    98\n",
       "40    22\n",
       "41    72\n",
       "42    79\n",
       "43    21\n",
       "44    49\n",
       "45    68\n",
       "46    55\n",
       "47    47\n",
       "48    43\n",
       "49    53\n",
       "dtype: int32"
      ]
     },
     "execution_count": 23,
     "metadata": {},
     "output_type": "execute_result"
    }
   ],
   "source": [
    "import numpy as np\n",
    "\n",
    "# 0~100 사이의 숫자를 random하게 50개 생성\n",
    "s8 =pd.Series(np.random.randint(0,100,50))\n",
    "s8"
   ]
  },
  {
   "cell_type": "code",
   "execution_count": 24,
   "id": "743f2e49",
   "metadata": {
    "ExecuteTime": {
     "end_time": "2023-01-13T07:07:33.026496Z",
     "start_time": "2023-01-13T07:07:33.008506Z"
    }
   },
   "outputs": [
    {
     "data": {
      "text/plain": [
       "0     79\n",
       "1     60\n",
       "2     90\n",
       "3     84\n",
       "5     76\n",
       "6     91\n",
       "7     74\n",
       "8     95\n",
       "9     79\n",
       "11    92\n",
       "12    96\n",
       "13    72\n",
       "14    96\n",
       "15    82\n",
       "16    83\n",
       "18    76\n",
       "23    97\n",
       "27    81\n",
       "31    97\n",
       "34    66\n",
       "35    83\n",
       "37    78\n",
       "38    61\n",
       "39    98\n",
       "41    72\n",
       "42    79\n",
       "45    68\n",
       "dtype: int32"
      ]
     },
     "execution_count": 24,
     "metadata": {},
     "output_type": "execute_result"
    }
   ],
   "source": [
    "# s8의 원소들 중에 60보다 큰 값을 조회\n",
    "s8[s8 >= 60]"
   ]
  },
  {
   "cell_type": "code",
   "execution_count": 25,
   "id": "66b9d412",
   "metadata": {
    "ExecuteTime": {
     "end_time": "2023-01-12T05:01:40.124785Z",
     "start_time": "2023-01-12T05:01:40.102378Z"
    }
   },
   "outputs": [
    {
     "data": {
      "text/plain": [
       "1     60\n",
       "34    66\n",
       "38    61\n",
       "45    68\n",
       "dtype: int32"
      ]
     },
     "execution_count": 25,
     "metadata": {},
     "output_type": "execute_result"
    }
   ],
   "source": [
    "# s8의 원소들 중에 60~70 사이의 값들을 조회\n",
    "# &를 쓸 때는 피연산자들을 ()로 묶어줘야한다.\n",
    "s8[(s8 >= 60) & (s8 <= 70)]\n",
    "\n",
    "# 간편하게 between을 사용\n",
    "s8[s8.between(60,70)]"
   ]
  },
  {
   "cell_type": "code",
   "execution_count": 26,
   "id": "52820c3a",
   "metadata": {
    "ExecuteTime": {
     "end_time": "2023-01-12T05:04:37.689048Z",
     "start_time": "2023-01-12T05:04:37.668799Z"
    }
   },
   "outputs": [
    {
     "data": {
      "text/plain": [
       "(array([ 1, 34, 38, 45], dtype=int64),)"
      ]
     },
     "execution_count": 26,
     "metadata": {},
     "output_type": "execute_result"
    }
   ],
   "source": [
    "# np.where(bool연산)\n",
    "# True인 값들의 index를 조회해줌\n",
    "np.where(s8.between(60,70))\n"
   ]
  },
  {
   "cell_type": "code",
   "execution_count": 27,
   "id": "57623337",
   "metadata": {
    "ExecuteTime": {
     "end_time": "2023-01-12T05:08:34.201394Z",
     "start_time": "2023-01-12T05:08:34.177963Z"
    }
   },
   "outputs": [
    {
     "data": {
      "text/plain": [
       "array(['크다', '크다', '크다', '크다', '크다', '크다', '크다', '크다', '크다', '크다', '크다',\n",
       "       '크다', '크다', '크다', '크다', '크다', '크다', '작다', '크다', '작다', '크다', '작다',\n",
       "       '작다', '크다', '작다', '작다', '작다', '크다', '크다', '작다', '작다', '크다', '작다',\n",
       "       '작다', '크다', '크다', '작다', '크다', '크다', '크다', '작다', '크다', '크다', '작다',\n",
       "       '작다', '크다', '크다', '작다', '작다', '크다'], dtype='<U2')"
      ]
     },
     "execution_count": 27,
     "metadata": {},
     "output_type": "execute_result"
    }
   ],
   "source": [
    "# np.where(bool연산, True변환값, Fales변환값)\n",
    "# index를 조회 - 조건이 True인 값과 False인 값의 명칭을 지정해줌 \n",
    "np.where(s8 > 50,'크다','작다')"
   ]
  },
  {
   "cell_type": "markdown",
   "id": "25370323",
   "metadata": {},
   "source": [
    "\n",
    "value_counts() : 범주값들의 각각의 개수를 호출.\n",
    "법주값 : 특정 개수의 값으로만 구성된 자료구조"
   ]
  },
  {
   "cell_type": "code",
   "execution_count": 28,
   "id": "1146bc0f",
   "metadata": {
    "ExecuteTime": {
     "end_time": "2023-01-12T23:49:40.736093Z",
     "start_time": "2023-01-12T23:49:40.709982Z"
    }
   },
   "outputs": [
    {
     "name": "stdout",
     "output_type": "stream",
     "text": [
      "0          C\n",
      "1       Rust\n",
      "2       Java\n",
      "3         Go\n",
      "4       Rust\n",
      "       ...  \n",
      "95    Python\n",
      "96      Rust\n",
      "97        Go\n",
      "98      Java\n",
      "99      Java\n",
      "Length: 100, dtype: object\n"
     ]
    },
    {
     "data": {
      "text/plain": [
       "Go        24\n",
       "C         21\n",
       "Java      21\n",
       "Python    18\n",
       "Rust      16\n",
       "dtype: int64"
      ]
     },
     "execution_count": 28,
     "metadata": {},
     "output_type": "execute_result"
    }
   ],
   "source": [
    "# 범위의 값들 랜덤하게 99개 출력.\n",
    "s9 = pd.Series(np.random.choice(['Python','Java','C','Go','Rust'], 100))\n",
    "\n",
    "print(s9)\n",
    "\n",
    "# s9을 구성하는 범주값들의 각각의 개수\n",
    "# 랜덤한 값이기에 호출할 때마다 값이 달라지는걸 확인할 수 있다.\n",
    "s9.value_counts()"
   ]
  },
  {
   "cell_type": "markdown",
   "id": "801d7c76",
   "metadata": {},
   "source": [
    "#### 정렬"
   ]
  },
  {
   "cell_type": "markdown",
   "id": "9b6e0dcb",
   "metadata": {},
   "source": [
    "- sort_values()\n",
    "  - 값으로 정렬\n",
    "- sort_index()\n",
    "  - index명으로 정렬\n",
    "  \n",
    "- 공통 매개변수\n",
    "  - ascending= True(오름차순(default)) / Fales(내림차순)\n",
    "  - inplace= True(원본을 바꾼다) / False(새로운 Series로 반환(default)\n",
    "  "
   ]
  },
  {
   "cell_type": "code",
   "execution_count": 29,
   "id": "bb120cdd",
   "metadata": {
    "ExecuteTime": {
     "end_time": "2023-01-13T05:00:38.858467Z",
     "start_time": "2023-01-13T05:00:38.837507Z"
    }
   },
   "outputs": [
    {
     "data": {
      "text/plain": [
       "a    10\n",
       "z   -10\n",
       "b    20\n",
       "y   -20\n",
       "c    30\n",
       "dtype: int64"
      ]
     },
     "execution_count": 29,
     "metadata": {},
     "output_type": "execute_result"
    }
   ],
   "source": [
    "s10 = pd.Series([10,-10,20,-20,30], index=['a','z','b','y','c'])\n",
    "\n",
    "# 원본\n",
    "s10"
   ]
  },
  {
   "cell_type": "code",
   "execution_count": 30,
   "id": "f63e5c27",
   "metadata": {
    "ExecuteTime": {
     "end_time": "2023-01-13T05:00:44.568308Z",
     "start_time": "2023-01-13T05:00:44.558332Z"
    }
   },
   "outputs": [
    {
     "data": {
      "text/plain": [
       "y   -20\n",
       "z   -10\n",
       "a    10\n",
       "b    20\n",
       "c    30\n",
       "dtype: int64"
      ]
     },
     "execution_count": 30,
     "metadata": {},
     "output_type": "execute_result"
    }
   ],
   "source": [
    "# 값을 오름차순으로 정렬(ascending=True는 기본값)\n",
    "s10.sort_values()"
   ]
  },
  {
   "cell_type": "code",
   "execution_count": 31,
   "id": "79e59c24",
   "metadata": {
    "ExecuteTime": {
     "end_time": "2023-01-13T05:00:47.840106Z",
     "start_time": "2023-01-13T05:00:47.829099Z"
    }
   },
   "outputs": [
    {
     "data": {
      "text/plain": [
       "c    30\n",
       "b    20\n",
       "a    10\n",
       "z   -10\n",
       "y   -20\n",
       "dtype: int64"
      ]
     },
     "execution_count": 31,
     "metadata": {},
     "output_type": "execute_result"
    }
   ],
   "source": [
    "# 값을 내림차순으로 정렬(ascending을 해줘야한다.)\n",
    "s10.sort_values(ascending=False)"
   ]
  },
  {
   "cell_type": "code",
   "execution_count": 32,
   "id": "ef430bcf",
   "metadata": {
    "ExecuteTime": {
     "end_time": "2023-01-13T05:00:50.598730Z",
     "start_time": "2023-01-13T05:00:50.575794Z"
    }
   },
   "outputs": [
    {
     "data": {
      "text/plain": [
       "a    10\n",
       "b    20\n",
       "c    30\n",
       "y   -20\n",
       "z   -10\n",
       "dtype: int64"
      ]
     },
     "execution_count": 32,
     "metadata": {},
     "output_type": "execute_result"
    }
   ],
   "source": [
    "# index name을 기준으로 오름차순 정렬\n",
    "s10.sort_index()"
   ]
  },
  {
   "cell_type": "code",
   "execution_count": 33,
   "id": "e877e721",
   "metadata": {
    "ExecuteTime": {
     "end_time": "2023-01-13T05:00:54.776814Z",
     "start_time": "2023-01-13T05:00:54.764844Z"
    }
   },
   "outputs": [
    {
     "data": {
      "text/plain": [
       "z   -10\n",
       "y   -20\n",
       "c    30\n",
       "b    20\n",
       "a    10\n",
       "dtype: int64"
      ]
     },
     "execution_count": 33,
     "metadata": {},
     "output_type": "execute_result"
    }
   ],
   "source": [
    "# index name을 기준으로 내림차순으로 정렬\n",
    "s10.sort_index(ascending=False)"
   ]
  },
  {
   "cell_type": "markdown",
   "id": "27e03f76",
   "metadata": {
    "ExecuteTime": {
     "end_time": "2023-01-13T05:03:10.922642Z",
     "start_time": "2023-01-13T05:03:10.904669Z"
    }
   },
   "source": [
    "## 기술 통계량"
   ]
  },
  {
   "cell_type": "code",
   "execution_count": 34,
   "id": "8d1937de",
   "metadata": {
    "ExecuteTime": {
     "end_time": "2023-01-13T05:04:37.681154Z",
     "start_time": "2023-01-13T05:04:37.668188Z"
    },
    "collapsed": true
   },
   "outputs": [
    {
     "data": {
      "text/plain": [
       "y   -20\n",
       "z   -10\n",
       "a    10\n",
       "b    20\n",
       "c    30\n",
       "dtype: int64"
      ]
     },
     "execution_count": 34,
     "metadata": {},
     "output_type": "execute_result"
    }
   ],
   "source": [
    "s11 = s10.sort_values()\n",
    "s11"
   ]
  },
  {
   "cell_type": "code",
   "execution_count": 35,
   "id": "c90a98f0",
   "metadata": {
    "ExecuteTime": {
     "end_time": "2023-01-13T05:07:55.865899Z",
     "start_time": "2023-01-13T05:07:55.851360Z"
    }
   },
   "outputs": [
    {
     "name": "stdout",
     "output_type": "stream",
     "text": [
      "30 -20\n",
      "c y\n",
      "30 6.0 10.0\n"
     ]
    }
   ],
   "source": [
    " # 최대, 최소\n",
    "print(s11.max(), s11.min())\n",
    "\n",
    "# 최대, 최소 값의 index 이름.\n",
    "print(s11.idxmax(), s11.idxmin())\n",
    "\n",
    "# 합계, 평균, 중앙값\n",
    "print(s11.sum(), s11.mean(), s11.median()) "
   ]
  },
  {
   "cell_type": "markdown",
   "id": "ab384232",
   "metadata": {},
   "source": [
    "**표준편차**\n",
    "- 자료가 평균을 중심으로 얼마나 퍼져 있는지를 나타내는 수치\n",
    "- 표준편차가 0에 가까우면 자료 값들이 평균 근처에 집중되어 있음을 의미한다. 표준편차가 클수록 자료 값들이 널리 퍼져 있음을 의미\n",
    "\n",
    "**분산**\n",
    "- 어떤 대상(평균)으로부터 흩어진 정도\n",
    "\n",
    "**최빈값**\n",
    "- 가장 개수가 많은 값 (S로 묶어서 반환.)\n",
    "\n",
    "**분위수**\n",
    "- 데이터의 크기 순서에 따른 위치값\n",
    "  - 데이터셋을 크기순으로 정렬한뒤 N등분했을 때 특정 위치에서의 값(단면)\n",
    "- 데이터의 분포를 파악하기 위해 사용\n",
    "  - N등분한 특정위치의 값들 통해 전체 데이터셋의 분포를 파악한다.\n",
    "- 대표적인 분위수 : 4분위. 10분위, 100분위"
   ]
  },
  {
   "cell_type": "code",
   "execution_count": 36,
   "id": "cedff87f",
   "metadata": {
    "ExecuteTime": {
     "end_time": "2023-01-13T05:07:52.918492Z",
     "start_time": "2023-01-13T05:07:52.899540Z"
    }
   },
   "outputs": [
    {
     "name": "stdout",
     "output_type": "stream",
     "text": [
      "20.73644135332772 430.0\n"
     ]
    }
   ],
   "source": [
    "# 표준편차, 분산\n",
    "print(s11.std(), s11.var())"
   ]
  },
  {
   "cell_type": "code",
   "execution_count": 39,
   "id": "c794fb52",
   "metadata": {
    "ExecuteTime": {
     "end_time": "2023-01-13T07:08:09.909655Z",
     "start_time": "2023-01-13T07:08:09.895693Z"
    },
    "collapsed": true
   },
   "outputs": [
    {
     "name": "stdout",
     "output_type": "stream",
     "text": [
      "0    Go\n",
      "dtype: object\n",
      "Go        24\n",
      "C         21\n",
      "Java      21\n",
      "Python    18\n",
      "Rust      16\n",
      "dtype: int64\n"
     ]
    }
   ],
   "source": [
    "# 최빈값\n",
    "# 최빈값이 같으면 1개 이상 출력된다.\n",
    "print(s9.mode())\n",
    "# s9에는 Go의 개수가 제일 많은 것을 알 수 있다.\n",
    "print(s9.value_counts())"
   ]
  },
  {
   "cell_type": "code",
   "execution_count": 47,
   "id": "06ed3a13",
   "metadata": {
    "collapsed": true
   },
   "outputs": [
    {
     "data": {
      "text/plain": [
       "0     701\n",
       "1     851\n",
       "2     415\n",
       "3     826\n",
       "4     559\n",
       "     ... \n",
       "95    238\n",
       "96    275\n",
       "97    308\n",
       "98    219\n",
       "99    971\n",
       "Length: 100, dtype: int32"
      ]
     },
     "execution_count": 47,
     "metadata": {},
     "output_type": "execute_result"
    }
   ],
   "source": [
    "# 랜덤한 수 호출\n",
    "s12 = pd.Series(np.random.randint(100,1000,100))\n",
    "s12\n",
    "\n"
   ]
  },
  {
   "cell_type": "code",
   "execution_count": 51,
   "id": "bfd72a78",
   "metadata": {
    "collapsed": true
   },
   "outputs": [
    {
     "name": "stdout",
     "output_type": "stream",
     "text": [
      "중위수: 534.5\n",
      "0.5    534.5\n",
      "dtype: float64\n",
      "0.25    331.00\n",
      "0.50    534.50\n",
      "0.75    768.25\n",
      "dtype: float64\n"
     ]
    }
   ],
   "source": [
    "# 기본 형태\n",
    "print('중위수:', s12.median())\n",
    "\n",
    "# 중위수 전체에서 0.5 자리에 있는 값\n",
    "print(s12.quantile(q=[0.5]))\n",
    "\n",
    "# 4분위 : 4등분 \n",
    "print(s12.quantile(q=[.25,.5,.75]))"
   ]
  },
  {
   "cell_type": "code",
   "execution_count": 52,
   "id": "28a18c00",
   "metadata": {},
   "outputs": [
    {
     "data": {
      "text/plain": [
       "100"
      ]
     },
     "execution_count": 52,
     "metadata": {},
     "output_type": "execute_result"
    }
   ],
   "source": [
    "# count() : 결측치 아닌 원소의 개수\n",
    "s12.count()"
   ]
  },
  {
   "cell_type": "code",
   "execution_count": 53,
   "id": "df130966",
   "metadata": {
    "collapsed": true
   },
   "outputs": [
    {
     "data": {
      "text/plain": [
       "count    100.000000\n",
       "mean     536.760000\n",
       "std      254.799986\n",
       "min      109.000000\n",
       "25%      331.000000\n",
       "50%      534.500000\n",
       "75%      768.250000\n",
       "max      994.000000\n",
       "dtype: float64"
      ]
     },
     "execution_count": 53,
     "metadata": {},
     "output_type": "execute_result"
    }
   ],
   "source": [
    "# 자주 사용하는 값 한번에 보기\n",
    "s12.describe()"
   ]
  },
  {
   "cell_type": "code",
   "execution_count": 55,
   "id": "158b3729",
   "metadata": {
    "collapsed": true
   },
   "outputs": [
    {
     "name": "stdout",
     "output_type": "stream",
     "text": [
      "0          C\n",
      "1       Rust\n",
      "2       Java\n",
      "3         Go\n",
      "4       Rust\n",
      "       ...  \n",
      "95    Python\n",
      "96      Rust\n",
      "97        Go\n",
      "98      Java\n",
      "99      Java\n",
      "Length: 100, dtype: object\n",
      "count     100\n",
      "unique      5\n",
      "top        Go\n",
      "freq       24\n",
      "dtype: object\n"
     ]
    }
   ],
   "source": [
    "# 원소들이 문자열 타입일때.\n",
    "print(s9)\n",
    "\n",
    "print(s9.describe())\n",
    "\n"
   ]
  },
  {
   "cell_type": "markdown",
   "id": "46b3dd8d",
   "metadata": {},
   "source": [
    "```\n",
    "count     100 -> 결축치가 아닌 원소들의 개수\n",
    "unique      5 -> 고유값(범주값)의 개수\n",
    "top        Go -> 최빈값\n",
    "freq       24 -> 최빈값의 빈도수(개수)\n",
    "dtype: object\n",
    "```"
   ]
  },
  {
   "cell_type": "markdown",
   "id": "e1406b25",
   "metadata": {},
   "source": [
    "## 결측치\n",
    "\n",
    "- 결측치 : 모르는 값, 수집이 안된 값, 현재 가지고 있지 않은 값.\n",
    "- 판다스에서 결측치\n",
    "  - None, numpy.nan, numpy.NAN\n",
    "  - 결측치는 float 타입으로 처리된다.\n",
    "  \n",
    "### 결측치 확인하기\n",
    "\n",
    "- 각 함수/메소드는 각 원소별로 결측치인지 확인해서 결과를 반환한다.\n",
    "- Numpy\n",
    "  - np.isnan(배열)\n",
    "    - import numpy as np\n",
    "    - a = np.array([1,np.nan])\n",
    "    - np.isnan(a)\n",
    "\n",
    "- Series/DataFrame\n",
    "  - Series/DataFrame객체.isnull(), 또는 isna()\n",
    "  - Series/DataFrame객체.notnull(), 또는 notna()\n",
    "  \n",
    "### 결측치 처리하기\n",
    "\n",
    "- 제거\n",
    "  - dropna()\n",
    "- 다른값으로 대체\n",
    "  - fillna()\n",
    "    - 주로 평균, 중위값, 최빈값으로 대체함."
   ]
  },
  {
   "cell_type": "code",
   "execution_count": 86,
   "id": "87264d0e",
   "metadata": {},
   "outputs": [
    {
     "data": {
      "text/plain": [
       "0    10.0\n",
       "1     2.0\n",
       "2    40.0\n",
       "3     7.0\n",
       "4    20.0\n",
       "5     NaN\n",
       "6    50.0\n",
       "7     NaN\n",
       "8    10.0\n",
       "dtype: float64"
      ]
     },
     "execution_count": 86,
     "metadata": {},
     "output_type": "execute_result"
    }
   ],
   "source": [
    "import pandas as pd\n",
    "import numpy as np\n",
    "\n",
    "# index 5,7을 결측치로 줌\n",
    "s13 = pd.Series([10, 2, 40, 7, 20, np.nan, 50, np.nan, 10])\n",
    "s13"
   ]
  },
  {
   "cell_type": "code",
   "execution_count": 87,
   "id": "37483ecf",
   "metadata": {},
   "outputs": [
    {
     "data": {
      "text/plain": [
       "0    False\n",
       "1    False\n",
       "2    False\n",
       "3    False\n",
       "4    False\n",
       "5     True\n",
       "6    False\n",
       "7     True\n",
       "8    False\n",
       "dtype: bool"
      ]
     },
     "execution_count": 87,
     "metadata": {},
     "output_type": "execute_result"
    }
   ],
   "source": [
    "# 결측치 확인\n",
    "\n",
    "# 원소별로 결측이 인지(True) 아닌지(False) 체크\n",
    "# index 5,7은 결측치라 True 출력\n",
    "# isnull()말고 isna()도 있다.\n",
    "result = s13.isnull() # isna()\n",
    "result"
   ]
  },
  {
   "cell_type": "code",
   "execution_count": 88,
   "id": "8ae36834",
   "metadata": {},
   "outputs": [
    {
     "data": {
      "text/plain": [
       "0     True\n",
       "1     True\n",
       "2     True\n",
       "3     True\n",
       "4     True\n",
       "5    False\n",
       "6     True\n",
       "7    False\n",
       "8     True\n",
       "dtype: bool"
      ]
     },
     "execution_count": 88,
     "metadata": {},
     "output_type": "execute_result"
    }
   ],
   "source": [
    "# 반대로 확인하고 싶으면 notnull() 이나 notna()를 쓴다.\n",
    "# 결측치가 아닌것은 True\n",
    "result2 = s13.notnull()\n",
    "result2"
   ]
  },
  {
   "cell_type": "code",
   "execution_count": 89,
   "id": "a6d03f91",
   "metadata": {
    "collapsed": true
   },
   "outputs": [
    {
     "name": "stdout",
     "output_type": "stream",
     "text": [
      "0    10.0\n",
      "1     2.0\n",
      "2    40.0\n",
      "3     7.0\n",
      "4    20.0\n",
      "6    50.0\n",
      "8    10.0\n",
      "dtype: float64\n",
      "0    10.0\n",
      "1     2.0\n",
      "2    40.0\n",
      "3     7.0\n",
      "4    20.0\n",
      "5     NaN\n",
      "6    50.0\n",
      "7     NaN\n",
      "8    10.0\n",
      "dtype: float64\n"
     ]
    }
   ],
   "source": [
    "# 결측치 제거\n",
    "\n",
    "# 결측치를 제거한 결과를 새 S에 담아서 반환.\n",
    "print(s13.dropna())\n",
    "# 원본은 그대로인걸 알 수 있다.\n",
    "print(s13)"
   ]
  },
  {
   "cell_type": "code",
   "execution_count": 90,
   "id": "e4b2cd6b",
   "metadata": {
    "collapsed": true
   },
   "outputs": [
    {
     "data": {
      "text/plain": [
       "0     10.0\n",
       "1      2.0\n",
       "2     40.0\n",
       "3      7.0\n",
       "4     20.0\n",
       "5    100.0\n",
       "6     50.0\n",
       "7    100.0\n",
       "8     10.0\n",
       "dtype: float64"
      ]
     },
     "execution_count": 90,
     "metadata": {},
     "output_type": "execute_result"
    }
   ],
   "source": [
    "# 다른 값으로 대체\n",
    "s13.fillna(100)"
   ]
  },
  {
   "cell_type": "code",
   "execution_count": 97,
   "id": "31c71c77",
   "metadata": {},
   "outputs": [
    {
     "data": {
      "text/plain": [
       "0    10.0\n",
       "1     2.0\n",
       "2    40.0\n",
       "3     7.0\n",
       "4    20.0\n",
       "5    10.0\n",
       "6    50.0\n",
       "7    10.0\n",
       "8    10.0\n",
       "dtype: float64"
      ]
     },
     "execution_count": 97,
     "metadata": {},
     "output_type": "execute_result"
    }
   ],
   "source": [
    "# 결측치를 s13의 중위값의 소수점 2번째 자리까지 반올림한 값을로 대체\n",
    "s13.fillna(round(s13.median(),2))"
   ]
  },
  {
   "cell_type": "code",
   "execution_count": 93,
   "id": "cf4d0331",
   "metadata": {},
   "outputs": [
    {
     "name": "stdout",
     "output_type": "stream",
     "text": [
      "19.857142857142858\n",
      "nan\n"
     ]
    }
   ],
   "source": [
    "# 계산시 결측치 포함 여부\n",
    "\n",
    "# 결측치를 빼고 평균을 구한 결과\n",
    "print(s13.mean())\n",
    "\n",
    "# 결측치를 포함하고 평균을 구한 결과\n",
    "# 결측치가 하나라도 계산에 포함되어 있으면 계산 결과는 결측치이다.\n",
    "print(s13.mean(skipna=False))"
   ]
  }
 ],
 "metadata": {
  "kernelspec": {
   "display_name": "Python 3 (ipykernel)",
   "language": "python",
   "name": "python3"
  },
  "language_info": {
   "codemirror_mode": {
    "name": "ipython",
    "version": 3
   },
   "file_extension": ".py",
   "mimetype": "text/x-python",
   "name": "python",
   "nbconvert_exporter": "python",
   "pygments_lexer": "ipython3",
   "version": "3.9.13"
  },
  "toc": {
   "base_numbering": 1,
   "nav_menu": {},
   "number_sections": true,
   "sideBar": true,
   "skip_h1_title": false,
   "title_cell": "Table of Contents",
   "title_sidebar": "Contents",
   "toc_cell": false,
   "toc_position": {},
   "toc_section_display": true,
   "toc_window_display": false
  },
  "varInspector": {
   "cols": {
    "lenName": 16,
    "lenType": 16,
    "lenVar": 40
   },
   "kernels_config": {
    "python": {
     "delete_cmd_postfix": "",
     "delete_cmd_prefix": "del ",
     "library": "var_list.py",
     "varRefreshCmd": "print(var_dic_list())"
    },
    "r": {
     "delete_cmd_postfix": ") ",
     "delete_cmd_prefix": "rm(",
     "library": "var_list.r",
     "varRefreshCmd": "cat(var_dic_list()) "
    }
   },
   "types_to_exclude": [
    "module",
    "function",
    "builtin_function_or_method",
    "instance",
    "_Feature"
   ],
   "window_display": false
  }
 },
 "nbformat": 4,
 "nbformat_minor": 5
}
